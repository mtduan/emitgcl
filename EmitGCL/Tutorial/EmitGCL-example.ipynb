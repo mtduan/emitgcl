{
 "cells": [
  {
   "cell_type": "code",
   "execution_count": 1,
   "id": "3a990fc2",
   "metadata": {},
   "outputs": [],
   "source": [
    "import os\n",
    "import time\n",
    "import math\n",
    "import gzip\n",
    "import re\n",
    "import numpy as np\n",
    "import pandas as pd\n",
    "import EmitGCL \n",
    "from EmitGCL.utils import *\n",
    "from EmitGCL.loss_function import *\n",
    "from EmitGCL.conv import *\n",
    "from EmitGCL.emitgcl_model import *"
   ]
  },
  {
   "cell_type": "code",
   "execution_count": 2,
   "id": "a50ca018",
   "metadata": {},
   "outputs": [],
   "source": [
    "def get_cancer_metastasis_genes():\n",
    "    kegg = KEGG()\n",
    "\n",
    "    # Define cancer metastasis pathways\n",
    "    cancer_metastasis_pathways = {\n",
    "        'Protein processing in endoplasmic reticulum': 'hsa04141',\n",
    "        'mTOR signaling pathway': 'hsa04150',\n",
    "        'NF-kappa B signaling pathway': 'hsa04064',\n",
    "        'Autophagy': 'hsa04140',\n",
    "        'p53 signaling pathway': 'hsa04115',\n",
    "        'Apoptosis': 'hsa04210'\n",
    "    }\n",
    "\n",
    "\n",
    "    pathway_genes = {}\n",
    "\n",
    "    # Iterate over each pathway\n",
    "    for pathway_name, pathway_id in cancer_metastasis_pathways.items():\n",
    "        # Retrieve pathway information\n",
    "        pathway_info = kegg.get(pathway_id)\n",
    "        parsed_pathway = kegg.parse(pathway_info)\n",
    "\n",
    "        # Get and store the gene list\n",
    "        genes = parsed_pathway['GENE']\n",
    "        gene_symbols = []\n",
    "        for gene_id, gene_info in genes.items():\n",
    "            # Get the gene symbol\n",
    "            gene_symbol = gene_info.split(' ')[0].split(';')[0]\n",
    "            gene_symbols.append(gene_symbol)\n",
    "\n",
    "        pathway_genes[pathway_name] = gene_symbols\n",
    "\n",
    "    return pathway_genes\n",
    "\n",
    "pathway_genes = get_cancer_metastasis_genes()"
   ]
  },
  {
   "cell_type": "markdown",
   "id": "0ad595ef",
   "metadata": {},
   "source": [
    "#### Construct input file (adata format)"
   ]
  },
  {
   "cell_type": "code",
   "execution_count": 3,
   "id": "56b3235f",
   "metadata": {},
   "outputs": [
    {
     "name": "stderr",
     "output_type": "stream",
     "text": [
      "/tmp/slurmtmp.32559692/ipykernel_276659/1659835070.py:38: FutureWarning: X.dtype being converted to np.float32 from int64. In the next version of anndata (0.9) conversion will not be automatic. Pass dtype explicitly to avoid this warning. Pass `AnnData(X, dtype=X.dtype, ...)` to get the future behavour.\n",
      "  adata = sc.AnnData(X=matrix)\n",
      "/tmp/slurmtmp.32559692/ipykernel_276659/1659835070.py:38: FutureWarning: X.dtype being converted to np.float32 from int64. In the next version of anndata (0.9) conversion will not be automatic. Pass dtype explicitly to avoid this warning. Pass `AnnData(X, dtype=X.dtype, ...)` to get the future behavour.\n",
      "  adata = sc.AnnData(X=matrix)\n",
      "/tmp/slurmtmp.32559692/ipykernel_276659/1659835070.py:38: FutureWarning: X.dtype being converted to np.float32 from int64. In the next version of anndata (0.9) conversion will not be automatic. Pass dtype explicitly to avoid this warning. Pass `AnnData(X, dtype=X.dtype, ...)` to get the future behavour.\n",
      "  adata = sc.AnnData(X=matrix)\n"
     ]
    }
   ],
   "source": [
    "import scanpy as sc\n",
    "import pandas as pd\n",
    "import scipy.io\n",
    "import os\n",
    "import numpy as np\n",
    "from scipy.sparse import vstack, csr_matrix\n",
    "\n",
    "data_dir = \"/users/PCON0022/duanmaoteng/Metastasis/Stress/GSE251730/Rep2\"\n",
    "\n",
    "rep2_untreated_barcodes = os.path.join(data_dir, \"GSM7986594_Rep2_S1_barcodes.tsv\")\n",
    "rep2_untreated_features = os.path.join(data_dir, \"GSM7986594_Rep2_S1_features.tsv\")\n",
    "rep2_untreated_matrix = os.path.join(data_dir, \"GSM7986594_Rep2_S1_matrix.mtx\")\n",
    "\n",
    "rep2_6hr_barcodes = os.path.join(data_dir, \"GSM7986595_Rep2_S2_barcodes.tsv\")\n",
    "rep2_6hr_features = os.path.join(data_dir, \"GSM7986595_Rep2_S2_features.tsv\")\n",
    "rep2_6hr_matrix = os.path.join(data_dir, \"GSM7986595_Rep2_S2_matrix.mtx\")\n",
    "\n",
    "rep2_18hr_barcodes = os.path.join(data_dir, \"GSM7986598_Rep2_S5_barcodes.tsv\")\n",
    "rep2_18hr_features = os.path.join(data_dir, \"GSM7986598_Rep2_S5_features.tsv\")\n",
    "rep2_18hr_matrix = os.path.join(data_dir, \"GSM7986598_Rep2_S5_matrix.mtx\")\n",
    "\n",
    "def load_data(matrix_file, barcodes_file, features_file):\n",
    "    matrix = scipy.io.mmread(matrix_file).T.tocsr()\n",
    "\n",
    "    barcodes = pd.read_csv(barcodes_file, header=None, sep='\\t')\n",
    "\n",
    "    features = pd.read_csv(features_file, header=None, sep='\\t')\n",
    "\n",
    "    adata = sc.AnnData(X=matrix)\n",
    "    adata.obs['barcode'] = barcodes[0].values\n",
    "    adata.var['gene'] = features[0].values\n",
    "    adata.var['gene_name'] = features[1].values\n",
    "\n",
    "    adata.obs_names = adata.obs['barcode']\n",
    "    adata.var_names = adata.var['gene_name']\n",
    "\n",
    "    return adata\n",
    "\n",
    "adata_untreated = load_data(rep2_untreated_matrix, rep2_untreated_barcodes, rep2_untreated_features)\n",
    "\n",
    "adata_6hr = load_data(rep2_6hr_matrix, rep2_6hr_barcodes, rep2_6hr_features)\n",
    "\n",
    "adata_18hr = load_data(rep2_18hr_matrix, rep2_18hr_barcodes, rep2_18hr_features)"
   ]
  },
  {
   "cell_type": "markdown",
   "id": "4d1b5c87",
   "metadata": {},
   "source": [
    "#### Train model"
   ]
  },
  {
   "cell_type": "code",
   "execution_count": 10,
   "id": "9121449f",
   "metadata": {},
   "outputs": [
    {
     "name": "stdout",
     "output_type": "stream",
     "text": [
      "Cell number: 8329\n",
      "Gene number: 36601\n",
      "You will use :  cpu\n",
      "\tWhen the number of cells is less than or equal to 500, it is recommended to set the resolution value to 0.2.\n",
      "\tWhen the number of cells is within the range of 500 to 5000, the resolution value should be set to 0.5.\n",
      "\tWhen the number of cells is greater than 5000, the resolution value should be set to 0.8.\n",
      "WARNING: You’re trying to run this on 36601 dimensions of `.X`, if you really want this, set `use_rep='X'`.\n",
      "         Falling back to preprocessing with `sc.pp.pca` and default params.\n",
      "Partitioning data into batches based on sample type.\n"
     ]
    },
    {
     "name": "stderr",
     "output_type": "stream",
     "text": [
      "Processing Tumor samples: 100%|██████████| 83/83 [00:26<00:00,  3.13it/s]\n",
      "Processing Lymph Node samples: 100%|██████████| 196/196 [01:03<00:00,  3.09it/s]\n"
     ]
    }
   ],
   "source": [
    "import numpy as np\n",
    "import pandas as pd\n",
    "from scipy.sparse import vstack, csr_matrix\n",
    "# Main execution\n",
    "if __name__ == \"__main__\":\n",
    "    \n",
    "    input_directory = 'Rep2_IL-1b'\n",
    "\n",
    "    ignore_warnings()\n",
    "    set_random_seed()\n",
    "\n",
    "    # Parses command-line arguments for training a GNN on a gene cell graph, you can modify it as needed.\n",
    "    (output_file, labsm, lr, wd, n_hid, nheads, nlayers, \n",
    "     cell_size, neighbor, egrn) = parse_arguments(egrn=True, output_file= f'/users/PCON0022/duanmaoteng/Metastasis/Stress/GSE251730_Code/{input_directory}/')\n",
    "    \n",
    "    # Get the genes associated with the pathways\n",
    "    pathway_genes = get_cancer_metastasis_genes()\n",
    "    \n",
    "    file_path = f'/users/PCON0022/duanmaoteng/Metastasis/Stress/GSE251730_Code/{input_directory}/'\n",
    "    output_file = f'/users/PCON0022/duanmaoteng/Metastasis/Stress/GSE251730_Code/{input_directory}/Metastasis_Result_new/'\n",
    "    attention_file = f'/users/PCON0022/duanmaoteng/Metastasis/Stress/GSE251730_Code/{input_directory}/Metastasis_Result_new/Attention/'\n",
    "    ensure_dir(output_file)\n",
    "    ensure_dir(attention_file)\n",
    "    \n",
    "    rep2_untreated_labels = [\"Tumor\"] * adata_untreated.shape[0]\n",
    "    rep2_labeled_6hr = [\"Lymph Node\"] * adata_6hr.shape[0] \n",
    "    rep2_labeled_18hr = [\"Lymph Node\"] * adata_18hr.shape[0]\n",
    "    labels = rep2_untreated_labels + rep2_labeled_6hr + rep2_labeled_18hr\n",
    "\n",
    "    gene_names = list(adata_untreated.var_names)\n",
    "    untreated_cell_names = list(adata_untreated.obs_names)\n",
    "    cell_names = untreated_cell_names + list(adata_6hr.obs_names) + list(adata_18hr.obs_names)\n",
    "\n",
    "    untreated_matrix = adata_untreated.X\n",
    "    matrix_6hr = adata_6hr.X\n",
    "    matrix_18hr = adata_18hr.X\n",
    "    cell_counts_matrix = vstack([untreated_matrix, matrix_6hr, matrix_18hr])\n",
    "\n",
    "    cell_counts_matrix_csr = csr_matrix(cell_counts_matrix)\n",
    "\n",
    "    gene_cell = cell_counts_matrix_csr.transpose()\n",
    "\n",
    "    gene_cell.obs_names = gene_names\n",
    "    gene_cell.var_names = cell_names \n",
    "\n",
    "    RNA_matrix = gene_cell\n",
    "\n",
    "    cell_num = RNA_matrix.shape[1]\n",
    "    gene_num = RNA_matrix.shape[0]\n",
    "\n",
    "    print(f\"Cell number: {cell_num}\")\n",
    "    print(f\"Gene number: {gene_num}\")\n",
    "\n",
    "    device = torch.device(\"cuda\" if cuda.is_available() else \"cpu\")\n",
    "    device = torch.device('cpu')\n",
    "\n",
    "    print('You will use : ',device)\n",
    "    # Clustering result by scanpy\n",
    "    # initial_pre = initial_clustering(RNA_matrix,custom_resolution=0.5,custom_n_neighbors=10)\n",
    "    initial_pre = initial_clustering(RNA_matrix.copy())\n",
    "    cluster_ini_num = len(set(initial_pre))\n",
    "    ini_p1 = [int(i) for i in initial_pre]\n",
    "\n",
    "    # Call the batch_select_whole function\n",
    "    indices, Node_Ids, dic = batch_select_whole(RNA_matrix, labels, neighbor=[neighbor], cell_size=cell_size)\n",
    "    # indices, Node_Ids, dic = batch_select_whole(RNA_matrix, label)\n",
    "    sample_type = list(np.array(labels)[Node_Ids])\n",
    "    n_batch = len(indices)"
   ]
  },
  {
   "cell_type": "code",
   "execution_count": 11,
   "id": "96a4b71c",
   "metadata": {},
   "outputs": [
    {
     "name": "stdout",
     "output_type": "stream",
     "text": [
      "The training process for the NodeDimensionReduction model has started. Please wait.\n"
     ]
    },
    {
     "name": "stderr",
     "output_type": "stream",
     "text": [
      " 10%|█         | 1/10 [04:12<37:52, 252.50s/it]"
     ]
    },
    {
     "name": "stdout",
     "output_type": "stream",
     "text": [
      "Epoch 1:\n",
      "  KL Loss: 0.22311657453523315\n",
      "  Cluster Loss: 3.603064639593965\n"
     ]
    },
    {
     "name": "stderr",
     "output_type": "stream",
     "text": [
      "\r",
      " 20%|██        | 2/10 [08:31<34:11, 256.47s/it]"
     ]
    },
    {
     "name": "stdout",
     "output_type": "stream",
     "text": [
      "Epoch 2:\n",
      "  KL Loss: 0.1949441485827969\n",
      "  Cluster Loss: 3.0310178264494865\n"
     ]
    },
    {
     "name": "stderr",
     "output_type": "stream",
     "text": [
      "\r",
      " 30%|███       | 3/10 [12:52<30:09, 258.53s/it]"
     ]
    },
    {
     "name": "stdout",
     "output_type": "stream",
     "text": [
      "Epoch 3:\n",
      "  KL Loss: 0.14195341696982744\n",
      "  Cluster Loss: 2.843761899565283\n"
     ]
    },
    {
     "name": "stderr",
     "output_type": "stream",
     "text": [
      "\r",
      " 40%|████      | 4/10 [17:14<25:58, 259.70s/it]"
     ]
    },
    {
     "name": "stdout",
     "output_type": "stream",
     "text": [
      "Epoch 4:\n",
      "  KL Loss: 0.10571574160702339\n",
      "  Cluster Loss: 2.735487537999307\n"
     ]
    },
    {
     "name": "stderr",
     "output_type": "stream",
     "text": [
      "\r",
      " 50%|█████     | 5/10 [21:40<21:50, 262.04s/it]"
     ]
    },
    {
     "name": "stdout",
     "output_type": "stream",
     "text": [
      "Epoch 5:\n",
      "  KL Loss: 0.08991962051733421\n",
      "  Cluster Loss: 2.678520116327484\n"
     ]
    },
    {
     "name": "stderr",
     "output_type": "stream",
     "text": [
      "\r",
      " 60%|██████    | 6/10 [26:05<17:32, 263.13s/it]"
     ]
    },
    {
     "name": "stdout",
     "output_type": "stream",
     "text": [
      "Epoch 6:\n",
      "  KL Loss: 0.07662554018493194\n",
      "  Cluster Loss: 2.6003847267465354\n"
     ]
    },
    {
     "name": "stderr",
     "output_type": "stream",
     "text": [
      "\r",
      " 70%|███████   | 7/10 [30:36<13:16, 265.49s/it]"
     ]
    },
    {
     "name": "stdout",
     "output_type": "stream",
     "text": [
      "Epoch 7:\n",
      "  KL Loss: 0.06614980977495939\n",
      "  Cluster Loss: 2.561389621440655\n"
     ]
    },
    {
     "name": "stderr",
     "output_type": "stream",
     "text": [
      "\r",
      " 80%|████████  | 8/10 [35:03<08:52, 266.17s/it]"
     ]
    },
    {
     "name": "stdout",
     "output_type": "stream",
     "text": [
      "Epoch 8:\n",
      "  KL Loss: 0.06009995654278759\n",
      "  Cluster Loss: 2.488242314280575\n"
     ]
    },
    {
     "name": "stderr",
     "output_type": "stream",
     "text": [
      "\r",
      " 90%|█████████ | 9/10 [39:34<04:27, 267.50s/it]"
     ]
    },
    {
     "name": "stdout",
     "output_type": "stream",
     "text": [
      "Epoch 9:\n",
      "  KL Loss: 0.05523238675568693\n",
      "  Cluster Loss: 2.4417305052494065\n"
     ]
    },
    {
     "name": "stderr",
     "output_type": "stream",
     "text": [
      "100%|██████████| 10/10 [44:09<00:00, 264.99s/it]\n"
     ]
    },
    {
     "name": "stdout",
     "output_type": "stream",
     "text": [
      "Epoch 10:\n",
      "  KL Loss: 0.05224993532543541\n",
      "  Cluster Loss: 2.390533384029156\n",
      "The training for the NodeDimensionReduction model has been completed.\n",
      "The training process for the EmitGCL model has started. Please wait.\n"
     ]
    },
    {
     "name": "stderr",
     "output_type": "stream",
     "text": [
      "100%|██████████| 279/279 [03:53<00:00,  1.19it/s]\n"
     ]
    },
    {
     "name": "stdout",
     "output_type": "stream",
     "text": [
      "Epoch 1:\n",
      "  KL Loss: 0.5119487643241882\n",
      "  Cluster Loss: 2.4597606658935547\n",
      "  UCell Loss: -2.172882556915283\n",
      "  Total Contrastive Loss: 1.380971074104309\n",
      "  Total Loss: 2.179798126220703\n"
     ]
    },
    {
     "name": "stderr",
     "output_type": "stream",
     "text": [
      "100%|██████████| 279/279 [03:52<00:00,  1.20it/s]\n"
     ]
    },
    {
     "name": "stdout",
     "output_type": "stream",
     "text": [
      "Epoch 2:\n",
      "  KL Loss: 0.5015019774436951\n",
      "  Cluster Loss: 2.3839821815490723\n",
      "  UCell Loss: -4.174041271209717\n",
      "  Total Contrastive Loss: 1.3538336753845215\n",
      "  Total Loss: 0.0652766227722168\n"
     ]
    },
    {
     "name": "stderr",
     "output_type": "stream",
     "text": [
      "100%|██████████| 279/279 [04:01<00:00,  1.16it/s]\n"
     ]
    },
    {
     "name": "stdout",
     "output_type": "stream",
     "text": [
      "Epoch 3:\n",
      "  KL Loss: 0.49943965673446655\n",
      "  Cluster Loss: 2.361790895462036\n",
      "  UCell Loss: -4.3108906745910645\n",
      "  Total Contrastive Loss: 1.4325535297393799\n",
      "  Total Loss: -0.01710653305053711\n"
     ]
    },
    {
     "name": "stderr",
     "output_type": "stream",
     "text": [
      "100%|██████████| 279/279 [04:04<00:00,  1.14it/s]\n"
     ]
    },
    {
     "name": "stdout",
     "output_type": "stream",
     "text": [
      "Epoch 4:\n",
      "  KL Loss: 0.4966591000556946\n",
      "  Cluster Loss: 2.342651844024658\n",
      "  UCell Loss: -4.409340858459473\n",
      "  Total Contrastive Loss: 1.3800086975097656\n",
      "  Total Loss: -0.19002127647399902\n"
     ]
    },
    {
     "name": "stderr",
     "output_type": "stream",
     "text": [
      "100%|██████████| 279/279 [04:05<00:00,  1.13it/s]\n"
     ]
    },
    {
     "name": "stdout",
     "output_type": "stream",
     "text": [
      "Epoch 5:\n",
      "  KL Loss: 0.4905467927455902\n",
      "  Cluster Loss: 2.331465721130371\n",
      "  UCell Loss: -4.350992202758789\n",
      "  Total Contrastive Loss: 1.3354840278625488\n",
      "  Total Loss: -0.1934957504272461\n"
     ]
    },
    {
     "name": "stderr",
     "output_type": "stream",
     "text": [
      "100%|██████████| 279/279 [04:17<00:00,  1.08it/s]\n"
     ]
    },
    {
     "name": "stdout",
     "output_type": "stream",
     "text": [
      "Epoch 6:\n",
      "  KL Loss: 0.4820592701435089\n",
      "  Cluster Loss: 2.33713960647583\n",
      "  UCell Loss: -4.164611339569092\n",
      "  Total Contrastive Loss: 1.375626564025879\n",
      "  Total Loss: 0.03021407127380371\n"
     ]
    },
    {
     "name": "stderr",
     "output_type": "stream",
     "text": [
      "100%|██████████| 279/279 [04:18<00:00,  1.08it/s]\n"
     ]
    },
    {
     "name": "stdout",
     "output_type": "stream",
     "text": [
      "Epoch 7:\n",
      "  KL Loss: 0.4777892231941223\n",
      "  Cluster Loss: 2.330477476119995\n",
      "  UCell Loss: -3.9628896713256836\n",
      "  Total Contrastive Loss: 1.3937366008758545\n",
      "  Total Loss: 0.23911356925964355\n"
     ]
    },
    {
     "name": "stderr",
     "output_type": "stream",
     "text": [
      "100%|██████████| 279/279 [04:17<00:00,  1.08it/s]\n"
     ]
    },
    {
     "name": "stdout",
     "output_type": "stream",
     "text": [
      "Epoch 8:\n",
      "  KL Loss: 0.476798415184021\n",
      "  Cluster Loss: 2.3278396129608154\n",
      "  UCell Loss: -3.8251774311065674\n",
      "  Total Contrastive Loss: 1.4288986921310425\n",
      "  Total Loss: 0.408359169960022\n"
     ]
    },
    {
     "name": "stderr",
     "output_type": "stream",
     "text": [
      "100%|██████████| 279/279 [04:12<00:00,  1.11it/s]\n"
     ]
    },
    {
     "name": "stdout",
     "output_type": "stream",
     "text": [
      "Epoch 9:\n",
      "  KL Loss: 0.4730638861656189\n",
      "  Cluster Loss: 2.328864574432373\n",
      "  UCell Loss: -3.554826021194458\n",
      "  Total Contrastive Loss: 1.4789232015609741\n",
      "  Total Loss: 0.7260257005691528\n"
     ]
    },
    {
     "name": "stderr",
     "output_type": "stream",
     "text": [
      "100%|██████████| 279/279 [04:16<00:00,  1.09it/s]\n"
     ]
    },
    {
     "name": "stdout",
     "output_type": "stream",
     "text": [
      "Epoch 10:\n",
      "  KL Loss: 0.4703826308250427\n",
      "  Cluster Loss: 2.3217310905456543\n",
      "  UCell Loss: -3.8056516647338867\n",
      "  Total Contrastive Loss: 1.393241286277771\n",
      "  Total Loss: 0.3797034025192261\n",
      "The training for the EmitGCL model has been completed.\n"
     ]
    },
    {
     "name": "stderr",
     "output_type": "stream",
     "text": [
      "100%|██████████| 279/279 [07:12<00:00,  1.55s/it]\n"
     ]
    }
   ],
   "source": [
    "n_batch = len(indices)\n",
    "\n",
    "# Reduce the dimensionality of features for cell, gene, and peak data.\n",
    "node_model = NodeDimensionReduction(RNA_matrix, indices, ini_p1, n_hid=n_hid, n_heads=nheads, \n",
    "                                n_layers=nlayers, labsm=labsm, lr=lr, wd=wd, device=device, \n",
    "                                num_types=2, num_relations=1, epochs=10)\n",
    "gnn = node_model.train_model(n_batch=n_batch)\n",
    "\n",
    "# Tarin EmitGCL Model\n",
    "EmitGCL_model = EmitGCL(gnn=gnn, labsm=labsm, n_hid=n_hid, n_batch=n_batch, device=device, lr=lr, wd=wd, \n",
    "                  pathway_genes=pathway_genes, gene_names=gene_names, sample_type=sample_type, num_epochs=10)\n",
    "EmitGCL_gnn = EmitGCL_model.train_model(indices=indices, RNA_matrix=RNA_matrix, ini_p1=ini_p1, sample_type=sample_type, nodes_id=Node_Ids)\n",
    "\n",
    "EmitGCL_result = EmitGCL_pred(RNA_matrix, EmitGCL_gnn=EmitGCL_gnn, indices=indices, nheads=nheads,\n",
    "                            nodes_id=Node_Ids, cell_size=cell_size, device=device, \n",
    "                            gene_names=gene_names, node_dim_reduction_model=node_model)\n",
    "\n",
    "attention_matrices = EmitGCL_result['attention_weights']"
   ]
  },
  {
   "cell_type": "code",
   "execution_count": 12,
   "id": "b2a627b3",
   "metadata": {},
   "outputs": [],
   "source": [
    "# Save Result\n",
    "for head, matrix in attention_matrices.items():\n",
    "    save_attention_matrix_to_mtx(matrix, attention_file, head)\n",
    "\n",
    "np.save(output_file + \"Node_Ids.npy\", Node_Ids)\n",
    "np.save(output_file + \"pred.npy\", EmitGCL_result['pred_label'])\n",
    "np.save(output_file + \"cell_embedding.npy\", EmitGCL_result['cell_embedding'])"
   ]
  }
 ],
 "metadata": {
  "kernelspec": {
   "display_name": "emitgcl",
   "language": "python",
   "name": "emitgcl"
  },
  "language_info": {
   "codemirror_mode": {
    "name": "ipython",
    "version": 3
   },
   "file_extension": ".py",
   "mimetype": "text/x-python",
   "name": "python",
   "nbconvert_exporter": "python",
   "pygments_lexer": "ipython3",
   "version": "3.8.20"
  }
 },
 "nbformat": 4,
 "nbformat_minor": 5
}
